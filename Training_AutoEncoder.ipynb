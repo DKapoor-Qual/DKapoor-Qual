{
  "nbformat": 4,
  "nbformat_minor": 0,
  "metadata": {
    "colab": {
      "name": "Training_AutoEncoder.ipynb",
      "provenance": [],
      "mount_file_id": "1teIoXU2Y0f2fPm1UuHV69-hHTj-NuXch",
      "authorship_tag": "ABX9TyOKG5wtBGtK4+qWuMteHtLL",
      "include_colab_link": true
    },
    "kernelspec": {
      "name": "python3",
      "display_name": "Python 3"
    },
    "language_info": {
      "name": "python"
    }
  },
  "cells": [
    {
      "cell_type": "markdown",
      "metadata": {
        "id": "view-in-github",
        "colab_type": "text"
      },
      "source": [
        "<a href=\"https://colab.research.google.com/github/DKapoor-Qual/DKapoor-Qual/blob/main/Training_AutoEncoder.ipynb\" target=\"_parent\"><img src=\"https://colab.research.google.com/assets/colab-badge.svg\" alt=\"Open In Colab\"/></a>"
      ]
    },
    {
      "cell_type": "code",
      "metadata": {
        "colab": {
          "base_uri": "https://localhost:8080/"
        },
        "id": "MSvNL1usqwcV",
        "outputId": "6dfc817f-a283-4bdd-fb19-21f98d100652"
      },
      "source": [
        "from google.colab import drive \n",
        "drive.mount('/content/drive') "
      ],
      "execution_count": 5,
      "outputs": [
        {
          "output_type": "stream",
          "name": "stdout",
          "text": [
            "Drive already mounted at /content/drive; to attempt to forcibly remount, call drive.mount(\"/content/drive\", force_remount=True).\n"
          ]
        }
      ]
    },
    {
      "cell_type": "code",
      "metadata": {
        "id": "OhlPf4aTYDBm"
      },
      "source": [
        "import seaborn as sns \n",
        "import numpy as np \n",
        "import pandas as pd \n",
        " \n",
        "from sklearn.model_selection import train_test_split \n",
        " \n",
        "import matplotlib.pyplot as plt \n",
        "from tensorflow.keras.models import Sequential, Model \n",
        "from tensorflow.keras.layers import Dense, Input \n",
        "from tensorflow.keras.utils import to_categorical \n",
        "%matplotlib inline \n",
        "sns.set(style = 'white', context = 'notebook', palette = 'deep') \n",
        "np.random.seed(42) "
      ],
      "execution_count": 6,
      "outputs": []
    },
    {
      "cell_type": "code",
      "metadata": {
        "id": "v7yP90gUZlvD"
      },
      "source": [
        "train = pd.read_csv(\"/content/drive/MyDrive/Colab Notebooks/fashion-mnist_train.csv\") \n",
        "test = pd.read_csv(\"/content/drive/MyDrive/Colab Notebooks/fashion-mnist_test.csv\") "
      ],
      "execution_count": 7,
      "outputs": []
    },
    {
      "cell_type": "code",
      "metadata": {
        "colab": {
          "base_uri": "https://localhost:8080/",
          "height": 251
        },
        "id": "8hDyS6goZ-b6",
        "outputId": "663344c7-1fb7-4799-d62a-8a56d4b1958e"
      },
      "source": [
        "train.head() "
      ],
      "execution_count": 8,
      "outputs": [
        {
          "output_type": "execute_result",
          "data": {
            "text/html": [
              "<div>\n",
              "<style scoped>\n",
              "    .dataframe tbody tr th:only-of-type {\n",
              "        vertical-align: middle;\n",
              "    }\n",
              "\n",
              "    .dataframe tbody tr th {\n",
              "        vertical-align: top;\n",
              "    }\n",
              "\n",
              "    .dataframe thead th {\n",
              "        text-align: right;\n",
              "    }\n",
              "</style>\n",
              "<table border=\"1\" class=\"dataframe\">\n",
              "  <thead>\n",
              "    <tr style=\"text-align: right;\">\n",
              "      <th></th>\n",
              "      <th>label</th>\n",
              "      <th>pixel1</th>\n",
              "      <th>pixel2</th>\n",
              "      <th>pixel3</th>\n",
              "      <th>pixel4</th>\n",
              "      <th>pixel5</th>\n",
              "      <th>pixel6</th>\n",
              "      <th>pixel7</th>\n",
              "      <th>pixel8</th>\n",
              "      <th>pixel9</th>\n",
              "      <th>pixel10</th>\n",
              "      <th>pixel11</th>\n",
              "      <th>pixel12</th>\n",
              "      <th>pixel13</th>\n",
              "      <th>pixel14</th>\n",
              "      <th>pixel15</th>\n",
              "      <th>pixel16</th>\n",
              "      <th>pixel17</th>\n",
              "      <th>pixel18</th>\n",
              "      <th>pixel19</th>\n",
              "      <th>pixel20</th>\n",
              "      <th>pixel21</th>\n",
              "      <th>pixel22</th>\n",
              "      <th>pixel23</th>\n",
              "      <th>pixel24</th>\n",
              "      <th>pixel25</th>\n",
              "      <th>pixel26</th>\n",
              "      <th>pixel27</th>\n",
              "      <th>pixel28</th>\n",
              "      <th>pixel29</th>\n",
              "      <th>pixel30</th>\n",
              "      <th>pixel31</th>\n",
              "      <th>pixel32</th>\n",
              "      <th>pixel33</th>\n",
              "      <th>pixel34</th>\n",
              "      <th>pixel35</th>\n",
              "      <th>pixel36</th>\n",
              "      <th>pixel37</th>\n",
              "      <th>pixel38</th>\n",
              "      <th>pixel39</th>\n",
              "      <th>...</th>\n",
              "      <th>pixel745</th>\n",
              "      <th>pixel746</th>\n",
              "      <th>pixel747</th>\n",
              "      <th>pixel748</th>\n",
              "      <th>pixel749</th>\n",
              "      <th>pixel750</th>\n",
              "      <th>pixel751</th>\n",
              "      <th>pixel752</th>\n",
              "      <th>pixel753</th>\n",
              "      <th>pixel754</th>\n",
              "      <th>pixel755</th>\n",
              "      <th>pixel756</th>\n",
              "      <th>pixel757</th>\n",
              "      <th>pixel758</th>\n",
              "      <th>pixel759</th>\n",
              "      <th>pixel760</th>\n",
              "      <th>pixel761</th>\n",
              "      <th>pixel762</th>\n",
              "      <th>pixel763</th>\n",
              "      <th>pixel764</th>\n",
              "      <th>pixel765</th>\n",
              "      <th>pixel766</th>\n",
              "      <th>pixel767</th>\n",
              "      <th>pixel768</th>\n",
              "      <th>pixel769</th>\n",
              "      <th>pixel770</th>\n",
              "      <th>pixel771</th>\n",
              "      <th>pixel772</th>\n",
              "      <th>pixel773</th>\n",
              "      <th>pixel774</th>\n",
              "      <th>pixel775</th>\n",
              "      <th>pixel776</th>\n",
              "      <th>pixel777</th>\n",
              "      <th>pixel778</th>\n",
              "      <th>pixel779</th>\n",
              "      <th>pixel780</th>\n",
              "      <th>pixel781</th>\n",
              "      <th>pixel782</th>\n",
              "      <th>pixel783</th>\n",
              "      <th>pixel784</th>\n",
              "    </tr>\n",
              "  </thead>\n",
              "  <tbody>\n",
              "    <tr>\n",
              "      <th>0</th>\n",
              "      <td>2</td>\n",
              "      <td>0</td>\n",
              "      <td>0</td>\n",
              "      <td>0</td>\n",
              "      <td>0</td>\n",
              "      <td>0</td>\n",
              "      <td>0</td>\n",
              "      <td>0</td>\n",
              "      <td>0</td>\n",
              "      <td>0</td>\n",
              "      <td>0</td>\n",
              "      <td>0</td>\n",
              "      <td>0</td>\n",
              "      <td>0</td>\n",
              "      <td>0</td>\n",
              "      <td>0</td>\n",
              "      <td>0</td>\n",
              "      <td>0</td>\n",
              "      <td>0</td>\n",
              "      <td>0</td>\n",
              "      <td>0</td>\n",
              "      <td>0</td>\n",
              "      <td>0</td>\n",
              "      <td>0</td>\n",
              "      <td>0</td>\n",
              "      <td>0</td>\n",
              "      <td>0</td>\n",
              "      <td>0</td>\n",
              "      <td>0</td>\n",
              "      <td>0</td>\n",
              "      <td>0</td>\n",
              "      <td>0</td>\n",
              "      <td>0</td>\n",
              "      <td>0</td>\n",
              "      <td>0</td>\n",
              "      <td>0</td>\n",
              "      <td>0</td>\n",
              "      <td>0</td>\n",
              "      <td>0</td>\n",
              "      <td>0</td>\n",
              "      <td>...</td>\n",
              "      <td>0</td>\n",
              "      <td>0</td>\n",
              "      <td>0</td>\n",
              "      <td>0</td>\n",
              "      <td>0</td>\n",
              "      <td>0</td>\n",
              "      <td>0</td>\n",
              "      <td>0</td>\n",
              "      <td>0</td>\n",
              "      <td>0</td>\n",
              "      <td>0</td>\n",
              "      <td>0</td>\n",
              "      <td>0</td>\n",
              "      <td>0</td>\n",
              "      <td>0</td>\n",
              "      <td>0</td>\n",
              "      <td>0</td>\n",
              "      <td>0</td>\n",
              "      <td>0</td>\n",
              "      <td>0</td>\n",
              "      <td>0</td>\n",
              "      <td>0</td>\n",
              "      <td>0</td>\n",
              "      <td>0</td>\n",
              "      <td>0</td>\n",
              "      <td>0</td>\n",
              "      <td>0</td>\n",
              "      <td>0</td>\n",
              "      <td>0</td>\n",
              "      <td>0</td>\n",
              "      <td>0</td>\n",
              "      <td>0</td>\n",
              "      <td>0</td>\n",
              "      <td>0</td>\n",
              "      <td>0</td>\n",
              "      <td>0</td>\n",
              "      <td>0</td>\n",
              "      <td>0</td>\n",
              "      <td>0</td>\n",
              "      <td>0</td>\n",
              "    </tr>\n",
              "    <tr>\n",
              "      <th>1</th>\n",
              "      <td>9</td>\n",
              "      <td>0</td>\n",
              "      <td>0</td>\n",
              "      <td>0</td>\n",
              "      <td>0</td>\n",
              "      <td>0</td>\n",
              "      <td>0</td>\n",
              "      <td>0</td>\n",
              "      <td>0</td>\n",
              "      <td>0</td>\n",
              "      <td>0</td>\n",
              "      <td>0</td>\n",
              "      <td>0</td>\n",
              "      <td>0</td>\n",
              "      <td>0</td>\n",
              "      <td>0</td>\n",
              "      <td>0</td>\n",
              "      <td>0</td>\n",
              "      <td>0</td>\n",
              "      <td>0</td>\n",
              "      <td>0</td>\n",
              "      <td>0</td>\n",
              "      <td>0</td>\n",
              "      <td>0</td>\n",
              "      <td>0</td>\n",
              "      <td>0</td>\n",
              "      <td>0</td>\n",
              "      <td>0</td>\n",
              "      <td>0</td>\n",
              "      <td>0</td>\n",
              "      <td>0</td>\n",
              "      <td>0</td>\n",
              "      <td>0</td>\n",
              "      <td>0</td>\n",
              "      <td>0</td>\n",
              "      <td>0</td>\n",
              "      <td>0</td>\n",
              "      <td>0</td>\n",
              "      <td>0</td>\n",
              "      <td>0</td>\n",
              "      <td>...</td>\n",
              "      <td>0</td>\n",
              "      <td>0</td>\n",
              "      <td>0</td>\n",
              "      <td>0</td>\n",
              "      <td>0</td>\n",
              "      <td>0</td>\n",
              "      <td>0</td>\n",
              "      <td>0</td>\n",
              "      <td>0</td>\n",
              "      <td>0</td>\n",
              "      <td>0</td>\n",
              "      <td>0</td>\n",
              "      <td>0</td>\n",
              "      <td>0</td>\n",
              "      <td>0</td>\n",
              "      <td>0</td>\n",
              "      <td>0</td>\n",
              "      <td>0</td>\n",
              "      <td>0</td>\n",
              "      <td>0</td>\n",
              "      <td>0</td>\n",
              "      <td>0</td>\n",
              "      <td>0</td>\n",
              "      <td>0</td>\n",
              "      <td>0</td>\n",
              "      <td>0</td>\n",
              "      <td>0</td>\n",
              "      <td>0</td>\n",
              "      <td>0</td>\n",
              "      <td>0</td>\n",
              "      <td>0</td>\n",
              "      <td>0</td>\n",
              "      <td>0</td>\n",
              "      <td>0</td>\n",
              "      <td>0</td>\n",
              "      <td>0</td>\n",
              "      <td>0</td>\n",
              "      <td>0</td>\n",
              "      <td>0</td>\n",
              "      <td>0</td>\n",
              "    </tr>\n",
              "    <tr>\n",
              "      <th>2</th>\n",
              "      <td>6</td>\n",
              "      <td>0</td>\n",
              "      <td>0</td>\n",
              "      <td>0</td>\n",
              "      <td>0</td>\n",
              "      <td>0</td>\n",
              "      <td>0</td>\n",
              "      <td>0</td>\n",
              "      <td>5</td>\n",
              "      <td>0</td>\n",
              "      <td>0</td>\n",
              "      <td>0</td>\n",
              "      <td>105</td>\n",
              "      <td>92</td>\n",
              "      <td>101</td>\n",
              "      <td>107</td>\n",
              "      <td>100</td>\n",
              "      <td>132</td>\n",
              "      <td>0</td>\n",
              "      <td>0</td>\n",
              "      <td>2</td>\n",
              "      <td>4</td>\n",
              "      <td>0</td>\n",
              "      <td>1</td>\n",
              "      <td>0</td>\n",
              "      <td>0</td>\n",
              "      <td>0</td>\n",
              "      <td>0</td>\n",
              "      <td>0</td>\n",
              "      <td>0</td>\n",
              "      <td>0</td>\n",
              "      <td>0</td>\n",
              "      <td>0</td>\n",
              "      <td>0</td>\n",
              "      <td>0</td>\n",
              "      <td>0</td>\n",
              "      <td>0</td>\n",
              "      <td>0</td>\n",
              "      <td>0</td>\n",
              "      <td>150</td>\n",
              "      <td>...</td>\n",
              "      <td>211</td>\n",
              "      <td>220</td>\n",
              "      <td>214</td>\n",
              "      <td>74</td>\n",
              "      <td>0</td>\n",
              "      <td>255</td>\n",
              "      <td>222</td>\n",
              "      <td>128</td>\n",
              "      <td>0</td>\n",
              "      <td>0</td>\n",
              "      <td>0</td>\n",
              "      <td>0</td>\n",
              "      <td>0</td>\n",
              "      <td>0</td>\n",
              "      <td>0</td>\n",
              "      <td>0</td>\n",
              "      <td>0</td>\n",
              "      <td>44</td>\n",
              "      <td>12</td>\n",
              "      <td>0</td>\n",
              "      <td>0</td>\n",
              "      <td>40</td>\n",
              "      <td>134</td>\n",
              "      <td>162</td>\n",
              "      <td>191</td>\n",
              "      <td>214</td>\n",
              "      <td>163</td>\n",
              "      <td>146</td>\n",
              "      <td>165</td>\n",
              "      <td>79</td>\n",
              "      <td>0</td>\n",
              "      <td>0</td>\n",
              "      <td>0</td>\n",
              "      <td>30</td>\n",
              "      <td>43</td>\n",
              "      <td>0</td>\n",
              "      <td>0</td>\n",
              "      <td>0</td>\n",
              "      <td>0</td>\n",
              "      <td>0</td>\n",
              "    </tr>\n",
              "    <tr>\n",
              "      <th>3</th>\n",
              "      <td>0</td>\n",
              "      <td>0</td>\n",
              "      <td>0</td>\n",
              "      <td>0</td>\n",
              "      <td>1</td>\n",
              "      <td>2</td>\n",
              "      <td>0</td>\n",
              "      <td>0</td>\n",
              "      <td>0</td>\n",
              "      <td>0</td>\n",
              "      <td>0</td>\n",
              "      <td>114</td>\n",
              "      <td>183</td>\n",
              "      <td>112</td>\n",
              "      <td>55</td>\n",
              "      <td>23</td>\n",
              "      <td>72</td>\n",
              "      <td>102</td>\n",
              "      <td>165</td>\n",
              "      <td>160</td>\n",
              "      <td>28</td>\n",
              "      <td>0</td>\n",
              "      <td>0</td>\n",
              "      <td>0</td>\n",
              "      <td>1</td>\n",
              "      <td>0</td>\n",
              "      <td>0</td>\n",
              "      <td>0</td>\n",
              "      <td>0</td>\n",
              "      <td>0</td>\n",
              "      <td>0</td>\n",
              "      <td>0</td>\n",
              "      <td>0</td>\n",
              "      <td>1</td>\n",
              "      <td>0</td>\n",
              "      <td>0</td>\n",
              "      <td>24</td>\n",
              "      <td>188</td>\n",
              "      <td>163</td>\n",
              "      <td>93</td>\n",
              "      <td>...</td>\n",
              "      <td>171</td>\n",
              "      <td>249</td>\n",
              "      <td>207</td>\n",
              "      <td>197</td>\n",
              "      <td>202</td>\n",
              "      <td>45</td>\n",
              "      <td>0</td>\n",
              "      <td>3</td>\n",
              "      <td>0</td>\n",
              "      <td>0</td>\n",
              "      <td>0</td>\n",
              "      <td>0</td>\n",
              "      <td>0</td>\n",
              "      <td>0</td>\n",
              "      <td>0</td>\n",
              "      <td>0</td>\n",
              "      <td>0</td>\n",
              "      <td>0</td>\n",
              "      <td>1</td>\n",
              "      <td>0</td>\n",
              "      <td>0</td>\n",
              "      <td>0</td>\n",
              "      <td>22</td>\n",
              "      <td>21</td>\n",
              "      <td>25</td>\n",
              "      <td>69</td>\n",
              "      <td>52</td>\n",
              "      <td>45</td>\n",
              "      <td>74</td>\n",
              "      <td>39</td>\n",
              "      <td>3</td>\n",
              "      <td>0</td>\n",
              "      <td>0</td>\n",
              "      <td>0</td>\n",
              "      <td>0</td>\n",
              "      <td>1</td>\n",
              "      <td>0</td>\n",
              "      <td>0</td>\n",
              "      <td>0</td>\n",
              "      <td>0</td>\n",
              "    </tr>\n",
              "    <tr>\n",
              "      <th>4</th>\n",
              "      <td>3</td>\n",
              "      <td>0</td>\n",
              "      <td>0</td>\n",
              "      <td>0</td>\n",
              "      <td>0</td>\n",
              "      <td>0</td>\n",
              "      <td>0</td>\n",
              "      <td>0</td>\n",
              "      <td>0</td>\n",
              "      <td>0</td>\n",
              "      <td>0</td>\n",
              "      <td>0</td>\n",
              "      <td>0</td>\n",
              "      <td>46</td>\n",
              "      <td>0</td>\n",
              "      <td>21</td>\n",
              "      <td>68</td>\n",
              "      <td>0</td>\n",
              "      <td>0</td>\n",
              "      <td>0</td>\n",
              "      <td>0</td>\n",
              "      <td>0</td>\n",
              "      <td>0</td>\n",
              "      <td>0</td>\n",
              "      <td>0</td>\n",
              "      <td>0</td>\n",
              "      <td>0</td>\n",
              "      <td>0</td>\n",
              "      <td>0</td>\n",
              "      <td>0</td>\n",
              "      <td>0</td>\n",
              "      <td>0</td>\n",
              "      <td>0</td>\n",
              "      <td>0</td>\n",
              "      <td>0</td>\n",
              "      <td>0</td>\n",
              "      <td>0</td>\n",
              "      <td>25</td>\n",
              "      <td>187</td>\n",
              "      <td>189</td>\n",
              "      <td>...</td>\n",
              "      <td>230</td>\n",
              "      <td>237</td>\n",
              "      <td>229</td>\n",
              "      <td>0</td>\n",
              "      <td>0</td>\n",
              "      <td>1</td>\n",
              "      <td>0</td>\n",
              "      <td>0</td>\n",
              "      <td>0</td>\n",
              "      <td>0</td>\n",
              "      <td>0</td>\n",
              "      <td>0</td>\n",
              "      <td>0</td>\n",
              "      <td>0</td>\n",
              "      <td>0</td>\n",
              "      <td>0</td>\n",
              "      <td>0</td>\n",
              "      <td>0</td>\n",
              "      <td>0</td>\n",
              "      <td>0</td>\n",
              "      <td>0</td>\n",
              "      <td>68</td>\n",
              "      <td>116</td>\n",
              "      <td>112</td>\n",
              "      <td>136</td>\n",
              "      <td>147</td>\n",
              "      <td>144</td>\n",
              "      <td>121</td>\n",
              "      <td>102</td>\n",
              "      <td>63</td>\n",
              "      <td>0</td>\n",
              "      <td>0</td>\n",
              "      <td>0</td>\n",
              "      <td>0</td>\n",
              "      <td>0</td>\n",
              "      <td>0</td>\n",
              "      <td>0</td>\n",
              "      <td>0</td>\n",
              "      <td>0</td>\n",
              "      <td>0</td>\n",
              "    </tr>\n",
              "  </tbody>\n",
              "</table>\n",
              "<p>5 rows × 785 columns</p>\n",
              "</div>"
            ],
            "text/plain": [
              "   label  pixel1  pixel2  pixel3  ...  pixel781  pixel782  pixel783  pixel784\n",
              "0      2       0       0       0  ...         0         0         0         0\n",
              "1      9       0       0       0  ...         0         0         0         0\n",
              "2      6       0       0       0  ...         0         0         0         0\n",
              "3      0       0       0       0  ...         0         0         0         0\n",
              "4      3       0       0       0  ...         0         0         0         0\n",
              "\n",
              "[5 rows x 785 columns]"
            ]
          },
          "metadata": {},
          "execution_count": 8
        }
      ]
    },
    {
      "cell_type": "code",
      "metadata": {
        "colab": {
          "base_uri": "https://localhost:8080/"
        },
        "id": "K4ED-1htOWHB",
        "outputId": "cc00ff6d-e4d4-467b-9c8f-10e084ddf131"
      },
      "source": [
        "y_train = train[\"label\"] \n",
        "x_train = train.drop(labels = [\"label\"], axis = 1) \n",
        " \n",
        "print(type(x_train)) \n",
        "print(type(y_train)) "
      ],
      "execution_count": 9,
      "outputs": [
        {
          "output_type": "stream",
          "name": "stdout",
          "text": [
            "<class 'pandas.core.frame.DataFrame'>\n",
            "<class 'pandas.core.series.Series'>\n"
          ]
        }
      ]
    },
    {
      "cell_type": "code",
      "metadata": {
        "colab": {
          "base_uri": "https://localhost:8080/"
        },
        "id": "SgoDyB5taUQv",
        "outputId": "f2b6dcec-9b6f-4d25-d797-d9298ccabdb8"
      },
      "source": [
        "y_train = train[\"label\"] \n",
        "x_train = train.drop(labels = [\"label\"], axis = 1) \n",
        " \n",
        "print(type(x_train)) \n",
        "print(type(y_train)) "
      ],
      "execution_count": 10,
      "outputs": [
        {
          "output_type": "stream",
          "name": "stdout",
          "text": [
            "<class 'pandas.core.frame.DataFrame'>\n",
            "<class 'pandas.core.series.Series'>\n"
          ]
        }
      ]
    },
    {
      "cell_type": "code",
      "metadata": {
        "colab": {
          "base_uri": "https://localhost:8080/"
        },
        "id": "QxrHcTlLaZIK",
        "outputId": "b05ca45c-db39-459a-a98a-330579150423"
      },
      "source": [
        "x_train = x_train.to_numpy() \n",
        "y_train = y_train.to_numpy() \n",
        " \n",
        "print(type(x_train)) \n",
        "print(type(y_train)) "
      ],
      "execution_count": 11,
      "outputs": [
        {
          "output_type": "stream",
          "name": "stdout",
          "text": [
            "<class 'numpy.ndarray'>\n",
            "<class 'numpy.ndarray'>\n"
          ]
        }
      ]
    },
    {
      "cell_type": "code",
      "metadata": {
        "id": "ZnXckfzraeDn"
      },
      "source": [
        "x_train = x_train.astype('float')/255. "
      ],
      "execution_count": 12,
      "outputs": []
    },
    {
      "cell_type": "code",
      "metadata": {
        "id": "b5cy0T26ajiT"
      },
      "source": [
        "x_train, x_val, y_train, y_val = train_test_split(x_train, y_train, test_size = 0.2, random_state = 42) "
      ],
      "execution_count": 13,
      "outputs": []
    },
    {
      "cell_type": "code",
      "metadata": {
        "colab": {
          "base_uri": "https://localhost:8080/"
        },
        "id": "dPOaMJMQaplH",
        "outputId": "8de3d6b8-3c11-42d5-ad57-ea4d482d1c7f"
      },
      "source": [
        "x_train_size = len(x_train) \n",
        "x_val_size = len(x_val) \n",
        " \n",
        "print(x_train_size) \n",
        "print(x_val_size) "
      ],
      "execution_count": 14,
      "outputs": [
        {
          "output_type": "stream",
          "name": "stdout",
          "text": [
            "48000\n",
            "12000\n"
          ]
        }
      ]
    },
    {
      "cell_type": "code",
      "metadata": {
        "id": "VY8ObZFravjQ"
      },
      "source": [
        "#method-1 \n",
        "x_train_noisy = x_train + np.random.rand(x_train_size, 784) * 0.9 \n",
        "x_val_noisy = x_val + np.random.rand(x_val_size, 784) * 0.9 \n",
        " \n",
        "#method-2: Adding Gaussian Noise \n",
        "# x_train_noisy = x_train + 0.75 * np.random.normal(loc=0.0, scale=1.0, size=x_train.shape) \n",
        "# x_val_noisy = x_val + 0.75 * np.random.normal(loc=0.0, scale=1.0, size=x_val.shape) \n",
        " \n",
        "x_train_noisy = np.clip(x_train_noisy, 0., 1.) \n",
        "x_val_noisy = np.clip(x_val_noisy, 0., 1.) "
      ],
      "execution_count": 15,
      "outputs": []
    },
    {
      "cell_type": "code",
      "metadata": {
        "colab": {
          "base_uri": "https://localhost:8080/",
          "height": 110
        },
        "id": "_KaLtQC3a6bP",
        "outputId": "6aac23fa-8cc1-4cf7-e500-fc626343af8d"
      },
      "source": [
        "def plot(x, p , labels = False): \n",
        " plt.figure(figsize = (20,2)) \n",
        " for i in range(10): \n",
        "  plt.subplot(1, 10, i+1) \n",
        "  plt.imshow(x[i].reshape(28,28), cmap = 'binary') \n",
        "  plt.xticks([]) \n",
        "  plt.yticks([]) \n",
        " if labels: \n",
        "  plt.xlabel(np.argmax(p[i])) \n",
        "  plt.show() \n",
        " return \n",
        "plot(x_train, None)"
      ],
      "execution_count": 19,
      "outputs": [
        {
          "output_type": "display_data",
          "data": {
            "image/png": "[encoded data removed]",
            "text/plain": [
              "<Figure size 1440x144 with 10 Axes>"
            ]
          },
          "metadata": {}
        }
      ]
    },
    {
      "cell_type": "code",
      "metadata": {
        "colab": {
          "base_uri": "https://localhost:8080/",
          "height": 110
        },
        "id": "UW6YV07mbCTk",
        "outputId": "a9bddbf8-ca43-4696-b456-e0bc6d54c993"
      },
      "source": [
        "plot(x_train_noisy,None) "
      ],
      "execution_count": 20,
      "outputs": [
        {
          "output_type": "display_data",
          "data": {
            "image/png": "[encoded data removed]",
            "text/plain": [
              "<Figure size 1440x144 with 10 Axes>"
            ]
          },
          "metadata": {}
        }
      ]
    },
    {
      "cell_type": "code",
      "metadata": {
        "colab": {
          "base_uri": "https://localhost:8080/"
        },
        "id": "UN6MnORiQg3L",
        "outputId": "a79fd07d-2dcc-4a46-ceb0-b0d7c1449335"
      },
      "source": [
        "input_image = Input(shape = (784, ) ) \n",
        " \n",
        "encoded = Dense(512, activation = 'relu')(input_image) \n",
        "encoded = Dense(512, activation = 'relu')(encoded) \n",
        "encoded = Dense(256, activation = 'relu')(encoded) \n",
        "encoded = Dense(256, activation = 'relu')(encoded) \n",
        "encoded = Dense(64, activation = 'relu')(encoded) \n",
        " \n",
        "decoded = Dense(512, activation = 'relu')(encoded) \n",
        "decoded = Dense(784, activation = 'sigmoid')(decoded) \n",
        " \n",
        "autoencoder = Model(input_image, decoded) \n",
        "autoencoder.compile(loss= 'binary_crossentropy' , optimizer = 'adam') \n",
        "autoencoder.summary()"
      ],
      "execution_count": 21,
      "outputs": [
        {
          "output_type": "stream",
          "name": "stdout",
          "text": [
            "Model: \"model\"\n",
            "_________________________________________________________________\n",
            " Layer (type)                Output Shape              Param #   \n",
            "=================================================================\n",
            " input_1 (InputLayer)        [(None, 784)]             0         \n",
            "                                                                 \n",
            " dense (Dense)               (None, 512)               401920    \n",
            "                                                                 \n",
            " dense_1 (Dense)             (None, 512)               262656    \n",
            "                                                                 \n",
            " dense_2 (Dense)             (None, 256)               131328    \n",
            "                                                                 \n",
            " dense_3 (Dense)             (None, 256)               65792     \n",
            "                                                                 \n",
            " dense_4 (Dense)             (None, 64)                16448     \n",
            "                                                                 \n",
            " dense_5 (Dense)             (None, 512)               33280     \n",
            "                                                                 \n",
            " dense_6 (Dense)             (None, 784)               402192    \n",
            "                                                                 \n",
            "=================================================================\n",
            "Total params: 1,313,616\n",
            "Trainable params: 1,313,616\n",
            "Non-trainable params: 0\n",
            "_________________________________________________________________\n"
          ]
        }
      ]
    },
    {
      "cell_type": "code",
      "metadata": {
        "colab": {
          "base_uri": "https://localhost:8080/"
        },
        "id": "Do3j3l2qQ0zZ",
        "outputId": "af593a78-c979-4376-97bf-bb3cc2b1c296"
      },
      "source": [
        "import tensorflow as tf \n",
        "history = autoencoder.fit(x_train_noisy, x_train, epochs=100, batch_size=128, \n",
        " shuffle = True, validation_data=(x_val_noisy, x_val))"
      ],
      "execution_count": 22,
      "outputs": [
        {
          "output_type": "stream",
          "name": "stdout",
          "text": [
            "Epoch 1/100\n",
            "375/375 [==============================] - 13s 34ms/step - loss: 0.3716 - val_loss: 0.3245\n",
            "Epoch 2/100\n",
            "375/375 [==============================] - 12s 33ms/step - loss: 0.3185 - val_loss: 0.3129\n",
            "Epoch 3/100\n",
            "375/375 [==============================] - 12s 33ms/step - loss: 0.3107 - val_loss: 0.3093\n",
            "Epoch 4/100\n",
            "375/375 [==============================] - 12s 33ms/step - loss: 0.3057 - val_loss: 0.3057\n",
            "Epoch 5/100\n",
            "375/375 [==============================] - 12s 33ms/step - loss: 0.3024 - val_loss: 0.3018\n",
            "Epoch 6/100\n",
            "375/375 [==============================] - 12s 33ms/step - loss: 0.2999 - val_loss: 0.3006\n",
            "Epoch 7/100\n",
            "375/375 [==============================] - 12s 33ms/step - loss: 0.2978 - val_loss: 0.2972\n",
            "Epoch 8/100\n",
            "375/375 [==============================] - 12s 33ms/step - loss: 0.2960 - val_loss: 0.2977\n",
            "Epoch 9/100\n",
            "375/375 [==============================] - 12s 33ms/step - loss: 0.2940 - val_loss: 0.2942\n",
            "Epoch 10/100\n",
            "375/375 [==============================] - 12s 33ms/step - loss: 0.2926 - val_loss: 0.2941\n",
            "Epoch 11/100\n",
            "375/375 [==============================] - 12s 33ms/step - loss: 0.2916 - val_loss: 0.2919\n",
            "Epoch 12/100\n",
            "375/375 [==============================] - 12s 33ms/step - loss: 0.2902 - val_loss: 0.2923\n",
            "Epoch 13/100\n",
            "375/375 [==============================] - 12s 33ms/step - loss: 0.2891 - val_loss: 0.2916\n",
            "Epoch 14/100\n",
            "375/375 [==============================] - 12s 33ms/step - loss: 0.2886 - val_loss: 0.2913\n",
            "Epoch 15/100\n",
            "375/375 [==============================] - 12s 33ms/step - loss: 0.2874 - val_loss: 0.2904\n",
            "Epoch 16/100\n",
            "375/375 [==============================] - 12s 33ms/step - loss: 0.2867 - val_loss: 0.2887\n",
            "Epoch 17/100\n",
            "375/375 [==============================] - 12s 33ms/step - loss: 0.2861 - val_loss: 0.2877\n",
            "Epoch 18/100\n",
            "375/375 [==============================] - 12s 33ms/step - loss: 0.2853 - val_loss: 0.2871\n",
            "Epoch 19/100\n",
            "375/375 [==============================] - 12s 33ms/step - loss: 0.2849 - val_loss: 0.2871\n",
            "Epoch 20/100\n",
            "375/375 [==============================] - 12s 33ms/step - loss: 0.2842 - val_loss: 0.2867\n",
            "Epoch 21/100\n",
            "375/375 [==============================] - 12s 33ms/step - loss: 0.2836 - val_loss: 0.2867\n",
            "Epoch 22/100\n",
            "375/375 [==============================] - 12s 33ms/step - loss: 0.2833 - val_loss: 0.2856\n",
            "Epoch 23/100\n",
            "375/375 [==============================] - 12s 33ms/step - loss: 0.2830 - val_loss: 0.2854\n",
            "Epoch 24/100\n",
            "375/375 [==============================] - 12s 33ms/step - loss: 0.2825 - val_loss: 0.2860\n",
            "Epoch 25/100\n",
            "375/375 [==============================] - 12s 33ms/step - loss: 0.2819 - val_loss: 0.2848\n",
            "Epoch 26/100\n",
            "375/375 [==============================] - 13s 34ms/step - loss: 0.2817 - val_loss: 0.2845\n",
            "Epoch 27/100\n",
            "375/375 [==============================] - 12s 33ms/step - loss: 0.2813 - val_loss: 0.2850\n",
            "Epoch 28/100\n",
            "375/375 [==============================] - 12s 33ms/step - loss: 0.2810 - val_loss: 0.2844\n",
            "Epoch 29/100\n",
            "375/375 [==============================] - 12s 33ms/step - loss: 0.2807 - val_loss: 0.2855\n",
            "Epoch 30/100\n",
            "375/375 [==============================] - 12s 33ms/step - loss: 0.2805 - val_loss: 0.2837\n",
            "Epoch 31/100\n",
            "375/375 [==============================] - 12s 33ms/step - loss: 0.2802 - val_loss: 0.2841\n",
            "Epoch 32/100\n",
            "375/375 [==============================] - 12s 33ms/step - loss: 0.2799 - val_loss: 0.2840\n",
            "Epoch 33/100\n",
            "375/375 [==============================] - 12s 33ms/step - loss: 0.2795 - val_loss: 0.2832\n",
            "Epoch 34/100\n",
            "375/375 [==============================] - 12s 33ms/step - loss: 0.2794 - val_loss: 0.2838\n",
            "Epoch 35/100\n",
            "375/375 [==============================] - 12s 33ms/step - loss: 0.2790 - val_loss: 0.2829\n",
            "Epoch 36/100\n",
            "375/375 [==============================] - 12s 33ms/step - loss: 0.2790 - val_loss: 0.2829\n",
            "Epoch 37/100\n",
            "375/375 [==============================] - 12s 33ms/step - loss: 0.2787 - val_loss: 0.2830\n",
            "Epoch 38/100\n",
            "375/375 [==============================] - 12s 33ms/step - loss: 0.2785 - val_loss: 0.2834\n",
            "Epoch 39/100\n",
            "375/375 [==============================] - 12s 33ms/step - loss: 0.2783 - val_loss: 0.2840\n",
            "Epoch 40/100\n",
            "375/375 [==============================] - 12s 33ms/step - loss: 0.2781 - val_loss: 0.2833\n",
            "Epoch 41/100\n",
            "375/375 [==============================] - 12s 33ms/step - loss: 0.2780 - val_loss: 0.2833\n",
            "Epoch 42/100\n",
            "375/375 [==============================] - 12s 33ms/step - loss: 0.2780 - val_loss: 0.2828\n",
            "Epoch 43/100\n",
            "375/375 [==============================] - 12s 33ms/step - loss: 0.2773 - val_loss: 0.2826\n",
            "Epoch 44/100\n",
            "375/375 [==============================] - 12s 33ms/step - loss: 0.2777 - val_loss: 0.2827\n",
            "Epoch 45/100\n",
            "375/375 [==============================] - 12s 33ms/step - loss: 0.2772 - val_loss: 0.2822\n",
            "Epoch 46/100\n",
            "375/375 [==============================] - 12s 33ms/step - loss: 0.2772 - val_loss: 0.2839\n",
            "Epoch 47/100\n",
            "375/375 [==============================] - 13s 34ms/step - loss: 0.2770 - val_loss: 0.2821\n",
            "Epoch 48/100\n",
            "375/375 [==============================] - 12s 33ms/step - loss: 0.2770 - val_loss: 0.2824\n",
            "Epoch 49/100\n",
            "375/375 [==============================] - 12s 33ms/step - loss: 0.2767 - val_loss: 0.2822\n",
            "Epoch 50/100\n",
            "375/375 [==============================] - 12s 33ms/step - loss: 0.2766 - val_loss: 0.2821\n",
            "Epoch 51/100\n",
            "375/375 [==============================] - 12s 33ms/step - loss: 0.2764 - val_loss: 0.2815\n",
            "Epoch 52/100\n",
            "375/375 [==============================] - 12s 33ms/step - loss: 0.2765 - val_loss: 0.2812\n",
            "Epoch 53/100\n",
            "375/375 [==============================] - 12s 33ms/step - loss: 0.2764 - val_loss: 0.2820\n",
            "Epoch 54/100\n",
            "375/375 [==============================] - 12s 33ms/step - loss: 0.2760 - val_loss: 0.2818\n",
            "Epoch 55/100\n",
            "375/375 [==============================] - 12s 33ms/step - loss: 0.2759 - val_loss: 0.2815\n",
            "Epoch 56/100\n",
            "375/375 [==============================] - 12s 33ms/step - loss: 0.2760 - val_loss: 0.2818\n",
            "Epoch 57/100\n",
            "375/375 [==============================] - 12s 33ms/step - loss: 0.2759 - val_loss: 0.2816\n",
            "Epoch 58/100\n",
            "375/375 [==============================] - 12s 33ms/step - loss: 0.2756 - val_loss: 0.2816\n",
            "Epoch 59/100\n",
            "375/375 [==============================] - 12s 33ms/step - loss: 0.2755 - val_loss: 0.2817\n",
            "Epoch 60/100\n",
            "375/375 [==============================] - 13s 33ms/step - loss: 0.2755 - val_loss: 0.2815\n",
            "Epoch 61/100\n",
            "375/375 [==============================] - 13s 34ms/step - loss: 0.2752 - val_loss: 0.2819\n",
            "Epoch 62/100\n",
            "375/375 [==============================] - 12s 33ms/step - loss: 0.2753 - val_loss: 0.2815\n",
            "Epoch 63/100\n",
            "375/375 [==============================] - 12s 33ms/step - loss: 0.2753 - val_loss: 0.2812\n",
            "Epoch 64/100\n",
            "375/375 [==============================] - 12s 33ms/step - loss: 0.2751 - val_loss: 0.2814\n",
            "Epoch 65/100\n",
            "375/375 [==============================] - 12s 33ms/step - loss: 0.2751 - val_loss: 0.2815\n",
            "Epoch 66/100\n",
            "375/375 [==============================] - 12s 33ms/step - loss: 0.2749 - val_loss: 0.2824\n",
            "Epoch 67/100\n",
            "375/375 [==============================] - 13s 33ms/step - loss: 0.2749 - val_loss: 0.2819\n",
            "Epoch 68/100\n",
            "375/375 [==============================] - 13s 34ms/step - loss: 0.2747 - val_loss: 0.2819\n",
            "Epoch 69/100\n",
            "375/375 [==============================] - 12s 33ms/step - loss: 0.2746 - val_loss: 0.2815\n",
            "Epoch 70/100\n",
            "375/375 [==============================] - 13s 34ms/step - loss: 0.2747 - val_loss: 0.2815\n",
            "Epoch 71/100\n",
            "375/375 [==============================] - 12s 33ms/step - loss: 0.2746 - val_loss: 0.2816\n",
            "Epoch 72/100\n",
            "375/375 [==============================] - 13s 33ms/step - loss: 0.2744 - val_loss: 0.2812\n",
            "Epoch 73/100\n",
            "375/375 [==============================] - 13s 34ms/step - loss: 0.2744 - val_loss: 0.2823\n",
            "Epoch 74/100\n",
            "375/375 [==============================] - 12s 33ms/step - loss: 0.2745 - val_loss: 0.2811\n",
            "Epoch 75/100\n",
            "375/375 [==============================] - 12s 33ms/step - loss: 0.2742 - val_loss: 0.2811\n",
            "Epoch 76/100\n",
            "375/375 [==============================] - 13s 33ms/step - loss: 0.2740 - val_loss: 0.2813\n",
            "Epoch 77/100\n",
            "375/375 [==============================] - 12s 33ms/step - loss: 0.2744 - val_loss: 0.2813\n",
            "Epoch 78/100\n",
            "375/375 [==============================] - 12s 33ms/step - loss: 0.2740 - val_loss: 0.2814\n",
            "Epoch 79/100\n",
            "375/375 [==============================] - 12s 33ms/step - loss: 0.2740 - val_loss: 0.2814\n",
            "Epoch 80/100\n",
            "375/375 [==============================] - 12s 33ms/step - loss: 0.2740 - val_loss: 0.2816\n",
            "Epoch 81/100\n",
            "375/375 [==============================] - 13s 34ms/step - loss: 0.2739 - val_loss: 0.2828\n",
            "Epoch 82/100\n",
            "375/375 [==============================] - 13s 34ms/step - loss: 0.2738 - val_loss: 0.2822\n",
            "Epoch 83/100\n",
            "375/375 [==============================] - 13s 34ms/step - loss: 0.2739 - val_loss: 0.2813\n",
            "Epoch 84/100\n",
            "375/375 [==============================] - 13s 34ms/step - loss: 0.2737 - val_loss: 0.2815\n",
            "Epoch 85/100\n",
            "375/375 [==============================] - 13s 34ms/step - loss: 0.2737 - val_loss: 0.2835\n",
            "Epoch 86/100\n",
            "375/375 [==============================] - 13s 34ms/step - loss: 0.2737 - val_loss: 0.2816\n",
            "Epoch 87/100\n",
            "375/375 [==============================] - 13s 34ms/step - loss: 0.2736 - val_loss: 0.2812\n",
            "Epoch 88/100\n",
            "375/375 [==============================] - 13s 34ms/step - loss: 0.2737 - val_loss: 0.2817\n",
            "Epoch 89/100\n",
            "375/375 [==============================] - 13s 34ms/step - loss: 0.2734 - val_loss: 0.2814\n",
            "Epoch 90/100\n",
            "375/375 [==============================] - 12s 33ms/step - loss: 0.2735 - val_loss: 0.2812\n",
            "Epoch 91/100\n",
            "375/375 [==============================] - 13s 34ms/step - loss: 0.2735 - val_loss: 0.2825\n",
            "Epoch 92/100\n",
            "375/375 [==============================] - 12s 33ms/step - loss: 0.2734 - val_loss: 0.2812\n",
            "Epoch 93/100\n",
            "375/375 [==============================] - 12s 33ms/step - loss: 0.2732 - val_loss: 0.2821\n",
            "Epoch 94/100\n",
            "375/375 [==============================] - 13s 33ms/step - loss: 0.2734 - val_loss: 0.2815\n",
            "Epoch 95/100\n",
            "375/375 [==============================] - 13s 34ms/step - loss: 0.2731 - val_loss: 0.2816\n",
            "Epoch 96/100\n",
            "375/375 [==============================] - 13s 33ms/step - loss: 0.2732 - val_loss: 0.2815\n",
            "Epoch 97/100\n",
            "375/375 [==============================] - 13s 34ms/step - loss: 0.2731 - val_loss: 0.2812\n",
            "Epoch 98/100\n",
            "375/375 [==============================] - 13s 34ms/step - loss: 0.2733 - val_loss: 0.2818\n",
            "Epoch 99/100\n",
            "375/375 [==============================] - 13s 34ms/step - loss: 0.2732 - val_loss: 0.2812\n",
            "Epoch 100/100\n",
            "375/375 [==============================] - 13s 34ms/step - loss: 0.2732 - val_loss: 0.2811\n"
          ]
        }
      ]
    },
    {
      "cell_type": "code",
      "metadata": {
        "id": "hiakrn7wQ5EX"
      },
      "source": [
        "preds = autoencoder.predict(x_val_noisy) "
      ],
      "execution_count": 23,
      "outputs": []
    },
    {
      "cell_type": "code",
      "metadata": {
        "colab": {
          "base_uri": "https://localhost:8080/",
          "height": 126
        },
        "id": "Y_-rQ2pQQ85n",
        "outputId": "729c6f1b-28eb-4717-e8a9-b83ceaf42ad1"
      },
      "source": [
        "print(\"Test Image\") \n",
        "plot(x_val, None)"
      ],
      "execution_count": 24,
      "outputs": [
        {
          "output_type": "stream",
          "name": "stdout",
          "text": [
            "Test Image\n"
          ]
        },
        {
          "output_type": "display_data",
          "data": {
            "image/png": "[encoded data removed]",
            "text/plain": [
              "<Figure size 1440x144 with 10 Axes>"
            ]
          },
          "metadata": {}
        }
      ]
    },
    {
      "cell_type": "code",
      "metadata": {
        "colab": {
          "base_uri": "https://localhost:8080/",
          "height": 126
        },
        "id": "CrmjqL-vQ_4-",
        "outputId": "ae3d73ad-97b4-4244-ff42-ca9703f1f402"
      },
      "source": [
        "print(\"Noisy Image\") \n",
        "plot(x_val_noisy, None)"
      ],
      "execution_count": 25,
      "outputs": [
        {
          "output_type": "stream",
          "name": "stdout",
          "text": [
            "Noisy Image\n"
          ]
        },
        {
          "output_type": "display_data",
          "data": {
            "image/png": "[encoded data removed]",
            "text/plain": [
              "<Figure size 1440x144 with 10 Axes>"
            ]
          },
          "metadata": {}
        }
      ]
    },
    {
      "cell_type": "code",
      "metadata": {
        "colab": {
          "base_uri": "https://localhost:8080/",
          "height": 126
        },
        "id": "aswheR1JREg9",
        "outputId": "6f9e03df-4310-426f-86e4-7de224e9039d"
      },
      "source": [
        "print(\"Denoised Image\") \n",
        "plot(preds, None) \n",
        " "
      ],
      "execution_count": 26,
      "outputs": [
        {
          "output_type": "stream",
          "name": "stdout",
          "text": [
            "Denoised Image\n"
          ]
        },
        {
          "output_type": "display_data",
          "data": {
            "image/png": "[encoded data removed]",
            "text/plain": [
              "<Figure size 1440x144 with 10 Axes>"
            ]
          },
          "metadata": {}
        }
      ]
    },
    {
      "cell_type": "code",
      "metadata": {
        "id": "lTJdjB7fRH3r"
      },
      "source": [
        "def plot_loss(history, x = 'loss', y = 'val_loss'): \n",
        " fig, ax = plt.subplots( figsize=(20,10)) \n",
        " ax.plot(history.history[x]) \n",
        " ax.plot(history.history[y]) \n",
        " plt.title('Model Loss') \n",
        " plt.ylabel(y) \n",
        " plt.xlabel(x) \n",
        " plt.legend(['Train', 'Val'], loc='upper left') \n",
        " ax.grid(color='black') \n",
        " plt.show() "
      ],
      "execution_count": 29,
      "outputs": []
    },
    {
      "cell_type": "code",
      "metadata": {
        "colab": {
          "base_uri": "https://localhost:8080/",
          "height": 521
        },
        "id": "1Fwm9ABgRIfu",
        "outputId": "cc2a0b2b-e049-4092-e54a-16edc7a0d29e"
      },
      "source": [
        "plot_loss(history) "
      ],
      "execution_count": 30,
      "outputs": [
        {
          "output_type": "display_data",
          "data": {
            "image/png": "[encoded data removed]",
            "text/plain": [
              "<Figure size 1440x720 with 1 Axes>"
            ]
          },
          "metadata": {}
        }
      ]
    }
  ]
}